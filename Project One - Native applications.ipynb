{
 "cells": [
  {
   "cell_type": "code",
   "execution_count": 2,
   "metadata": {},
   "outputs": [
    {
     "output_type": "stream",
     "name": "stdout",
     "text": "('ios', ['id', 'track_name', 'size_bytes', 'currency', 'price', 'rating_count_tot', 'rating_count_ver', 'user_rating', 'user_rating_ver', 'ver', 'cont_rating', 'prime_genre', 'sup_devices.num', 'ipadSc_urls.num', 'lang.num', 'vpp_lic'])\n\n\n('android', ['App', 'Category', 'Rating', 'Reviews', 'Size', 'Installs', 'Type', 'Price', 'Content Rating', 'Genres', 'Last Updated', 'Current Ver', 'Android Ver'])\n"
    }
   ],
   "source": [
    "from csv import reader\n",
    "\n",
    "def import_file(file_name):\n",
    "    open_data = open(file_name)\n",
    "    read_data = reader(open_data)\n",
    "    return list(read_data)\n",
    "\n",
    "def file_header(name, file):\n",
    "    return (name, file[0])\n",
    "\n",
    "def file_data(file):\n",
    "    return file[1:]\n",
    "\n",
    "# IOS\n",
    "ios = import_file('AppleStore.csv')\n",
    "android = import_file('googleplaystore.csv')\n",
    "\n",
    "print(file_header('ios', ios))\n",
    "print('\\n')\n",
    "print(file_header('android', android))\n",
    "\n",
    ""
   ]
  },
  {
   "cell_type": "code",
   "execution_count": 11,
   "metadata": {},
   "outputs": [
    {
     "output_type": "error",
     "ename": "SyntaxError",
     "evalue": "invalid syntax (<ipython-input-11-88144ff40a5b>, line 5)",
     "traceback": [
      "\u001b[0;36m  File \u001b[0;32m\"<ipython-input-11-88144ff40a5b>\"\u001b[0;36m, line \u001b[0;32m5\u001b[0m\n\u001b[0;31m    def print_rows_and_columns(dataset)\u001b[0m\n\u001b[0m                                       ^\u001b[0m\n\u001b[0;31mSyntaxError\u001b[0m\u001b[0;31m:\u001b[0m invalid syntax\n"
     ]
    }
   ],
   "source": [
    "def display_row(row):\n",
    "    print(row)\n",
    "    print('\\n')\n",
    "\n",
    "def print_rows_and_columns(dataset):\n",
    "    print('number of rows ', len(dataset))\n",
    "    print('number of columns', len(len(dataset[0])))\n",
    "\n",
    "def explore_data(dataset, start, end, rows_and_columns=False):\n",
    "    dataset_slice = dataset[start:end]\n",
    "    for row in dataset_slice:\n",
    "        display_row(row)\n",
    "\n",
    "    if rows_and_columns:\n",
    "        print('number of rows ', len(dataset))\n",
    "        print('number of columns', len(len(dataset[0])))\n",
    "\n",
    "explore_data(android, 0, 3, True)"
   ]
  },
  {
   "cell_type": "code",
   "execution_count": 5,
   "metadata": {},
   "outputs": [
    {
     "output_type": "stream",
     "name": "stdout",
     "text": "['id', 'track_name', 'size_bytes', 'currency', 'price', 'rating_count_tot', 'rating_count_ver', 'user_rating', 'user_rating_ver', 'ver', 'cont_rating', 'prime_genre', 'sup_devices.num', 'ipadSc_urls.num', 'lang.num', 'vpp_lic']\n\n\n['284882215', 'Facebook', '389879808', 'USD', '0.0', '2974676', '212', '3.5', '3.5', '95.0', '4+', 'Social Networking', '37', '1', '29', '1']\n\n\n['389801252', 'Instagram', '113954816', 'USD', '0.0', '2161558', '1289', '4.5', '4.0', '10.23', '12+', 'Photo & Video', '37', '0', '29', '1']\n\n\n"
    }
   ],
   "source": [
    "explore_data(ios, 0, 3, True)"
   ]
  }
 ],
 "metadata": {
  "kernelspec": {
   "display_name": "Python 3",
   "language": "python",
   "name": "python3"
  },
  "language_info": {
   "codemirror_mode": {
    "name": "ipython",
    "version": 3
   },
   "file_extension": ".py",
   "mimetype": "text/x-python",
   "name": "python",
   "nbconvert_exporter": "python",
   "pygments_lexer": "ipython3",
   "version": "3.7.6-final"
  }
 },
 "nbformat": 4,
 "nbformat_minor": 4
}